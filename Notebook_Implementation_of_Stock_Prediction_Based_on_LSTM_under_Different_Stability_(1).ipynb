{
  "nbformat": 4,
  "nbformat_minor": 0,
  "metadata": {
    "colab": {
      "name": "Notebook - Implementation of Stock Prediction Based on LSTM under Different Stability (1).ipynb",
      "provenance": [],
      "collapsed_sections": [],
      "toc_visible": true,
      "machine_shape": "hm",
      "mount_file_id": "1W8Tf7aD3lYteDZpNOwkCU0w4_qTUu0oF",
      "authorship_tag": "ABX9TyM1Ex2va+IAbYMyKLj+W7Fd",
      "include_colab_link": true
    },
    "kernelspec": {
      "name": "python3",
      "display_name": "Python 3"
    },
    "accelerator": "TPU",
    "widgets": {
      "application/vnd.jupyter.widget-state+json": {
        "3f05642f8d6043dbbbee605a2cdd9ae0": {
          "model_module": "@jupyter-widgets/controls",
          "model_name": "HBoxModel",
          "state": {
            "_view_name": "HBoxView",
            "_dom_classes": [],
            "_model_name": "HBoxModel",
            "_view_module": "@jupyter-widgets/controls",
            "_model_module_version": "1.5.0",
            "_view_count": null,
            "_view_module_version": "1.5.0",
            "box_style": "",
            "layout": "IPY_MODEL_7eef3e9efa9740da818b1d7c0866be49",
            "_model_module": "@jupyter-widgets/controls",
            "children": [
              "IPY_MODEL_dec534889b3642a383ad96782b9a053d",
              "IPY_MODEL_b73996a3c0cf4424bea3fece9eb3729e"
            ]
          }
        },
        "7eef3e9efa9740da818b1d7c0866be49": {
          "model_module": "@jupyter-widgets/base",
          "model_name": "LayoutModel",
          "state": {
            "_view_name": "LayoutView",
            "grid_template_rows": null,
            "right": null,
            "justify_content": null,
            "_view_module": "@jupyter-widgets/base",
            "overflow": null,
            "_model_module_version": "1.2.0",
            "_view_count": null,
            "flex_flow": null,
            "width": null,
            "min_width": null,
            "border": null,
            "align_items": null,
            "bottom": null,
            "_model_module": "@jupyter-widgets/base",
            "top": null,
            "grid_column": null,
            "overflow_y": null,
            "overflow_x": null,
            "grid_auto_flow": null,
            "grid_area": null,
            "grid_template_columns": null,
            "flex": null,
            "_model_name": "LayoutModel",
            "justify_items": null,
            "grid_row": null,
            "max_height": null,
            "align_content": null,
            "visibility": null,
            "align_self": null,
            "height": null,
            "min_height": null,
            "padding": null,
            "grid_auto_rows": null,
            "grid_gap": null,
            "max_width": null,
            "order": null,
            "_view_module_version": "1.2.0",
            "grid_template_areas": null,
            "object_position": null,
            "object_fit": null,
            "grid_auto_columns": null,
            "margin": null,
            "display": null,
            "left": null
          }
        },
        "dec534889b3642a383ad96782b9a053d": {
          "model_module": "@jupyter-widgets/controls",
          "model_name": "FloatProgressModel",
          "state": {
            "_view_name": "ProgressView",
            "style": "IPY_MODEL_62782a7bda1840f4a3df04a15f9e02eb",
            "_dom_classes": [],
            "description": "Trial:  40%",
            "_model_name": "FloatProgressModel",
            "bar_style": "",
            "max": 5,
            "_view_module": "@jupyter-widgets/controls",
            "_model_module_version": "1.5.0",
            "value": 2,
            "_view_count": null,
            "_view_module_version": "1.5.0",
            "orientation": "horizontal",
            "min": 0,
            "description_tooltip": null,
            "_model_module": "@jupyter-widgets/controls",
            "layout": "IPY_MODEL_2bb1767f01d944b59c00f1b61b8ca945"
          }
        },
        "b73996a3c0cf4424bea3fece9eb3729e": {
          "model_module": "@jupyter-widgets/controls",
          "model_name": "HTMLModel",
          "state": {
            "_view_name": "HTMLView",
            "style": "IPY_MODEL_f042acc2ddc840a3a68c8ee41108e4ce",
            "_dom_classes": [],
            "description": "",
            "_model_name": "HTMLModel",
            "placeholder": "​",
            "_view_module": "@jupyter-widgets/controls",
            "_model_module_version": "1.5.0",
            "value": " 2/5 [09:38&lt;14:23, 287.86s/it]",
            "_view_count": null,
            "_view_module_version": "1.5.0",
            "description_tooltip": null,
            "_model_module": "@jupyter-widgets/controls",
            "layout": "IPY_MODEL_f2bd2d2dff324258b1c46ffac70cfbf0"
          }
        },
        "62782a7bda1840f4a3df04a15f9e02eb": {
          "model_module": "@jupyter-widgets/controls",
          "model_name": "ProgressStyleModel",
          "state": {
            "_view_name": "StyleView",
            "_model_name": "ProgressStyleModel",
            "description_width": "initial",
            "_view_module": "@jupyter-widgets/base",
            "_model_module_version": "1.5.0",
            "_view_count": null,
            "_view_module_version": "1.2.0",
            "bar_color": null,
            "_model_module": "@jupyter-widgets/controls"
          }
        },
        "2bb1767f01d944b59c00f1b61b8ca945": {
          "model_module": "@jupyter-widgets/base",
          "model_name": "LayoutModel",
          "state": {
            "_view_name": "LayoutView",
            "grid_template_rows": null,
            "right": null,
            "justify_content": null,
            "_view_module": "@jupyter-widgets/base",
            "overflow": null,
            "_model_module_version": "1.2.0",
            "_view_count": null,
            "flex_flow": null,
            "width": null,
            "min_width": null,
            "border": null,
            "align_items": null,
            "bottom": null,
            "_model_module": "@jupyter-widgets/base",
            "top": null,
            "grid_column": null,
            "overflow_y": null,
            "overflow_x": null,
            "grid_auto_flow": null,
            "grid_area": null,
            "grid_template_columns": null,
            "flex": null,
            "_model_name": "LayoutModel",
            "justify_items": null,
            "grid_row": null,
            "max_height": null,
            "align_content": null,
            "visibility": null,
            "align_self": null,
            "height": null,
            "min_height": null,
            "padding": null,
            "grid_auto_rows": null,
            "grid_gap": null,
            "max_width": null,
            "order": null,
            "_view_module_version": "1.2.0",
            "grid_template_areas": null,
            "object_position": null,
            "object_fit": null,
            "grid_auto_columns": null,
            "margin": null,
            "display": null,
            "left": null
          }
        },
        "f042acc2ddc840a3a68c8ee41108e4ce": {
          "model_module": "@jupyter-widgets/controls",
          "model_name": "DescriptionStyleModel",
          "state": {
            "_view_name": "StyleView",
            "_model_name": "DescriptionStyleModel",
            "description_width": "",
            "_view_module": "@jupyter-widgets/base",
            "_model_module_version": "1.5.0",
            "_view_count": null,
            "_view_module_version": "1.2.0",
            "_model_module": "@jupyter-widgets/controls"
          }
        },
        "f2bd2d2dff324258b1c46ffac70cfbf0": {
          "model_module": "@jupyter-widgets/base",
          "model_name": "LayoutModel",
          "state": {
            "_view_name": "LayoutView",
            "grid_template_rows": null,
            "right": null,
            "justify_content": null,
            "_view_module": "@jupyter-widgets/base",
            "overflow": null,
            "_model_module_version": "1.2.0",
            "_view_count": null,
            "flex_flow": null,
            "width": null,
            "min_width": null,
            "border": null,
            "align_items": null,
            "bottom": null,
            "_model_module": "@jupyter-widgets/base",
            "top": null,
            "grid_column": null,
            "overflow_y": null,
            "overflow_x": null,
            "grid_auto_flow": null,
            "grid_area": null,
            "grid_template_columns": null,
            "flex": null,
            "_model_name": "LayoutModel",
            "justify_items": null,
            "grid_row": null,
            "max_height": null,
            "align_content": null,
            "visibility": null,
            "align_self": null,
            "height": null,
            "min_height": null,
            "padding": null,
            "grid_auto_rows": null,
            "grid_gap": null,
            "max_width": null,
            "order": null,
            "_view_module_version": "1.2.0",
            "grid_template_areas": null,
            "object_position": null,
            "object_fit": null,
            "grid_auto_columns": null,
            "margin": null,
            "display": null,
            "left": null
          }
        },
        "37cc3a1830a047d18f208d560f2e3b84": {
          "model_module": "@jupyter-widgets/controls",
          "model_name": "HBoxModel",
          "state": {
            "_view_name": "HBoxView",
            "_dom_classes": [],
            "_model_name": "HBoxModel",
            "_view_module": "@jupyter-widgets/controls",
            "_model_module_version": "1.5.0",
            "_view_count": null,
            "_view_module_version": "1.5.0",
            "box_style": "",
            "layout": "IPY_MODEL_b84a50ea5a864c8fa0c10988c4cdf0c8",
            "_model_module": "@jupyter-widgets/controls",
            "children": [
              "IPY_MODEL_bc2d86507253456cb641a1eb0d24a703",
              "IPY_MODEL_e53f10dc62d9424c83042e99ddbae4ba"
            ]
          }
        },
        "b84a50ea5a864c8fa0c10988c4cdf0c8": {
          "model_module": "@jupyter-widgets/base",
          "model_name": "LayoutModel",
          "state": {
            "_view_name": "LayoutView",
            "grid_template_rows": null,
            "right": null,
            "justify_content": null,
            "_view_module": "@jupyter-widgets/base",
            "overflow": null,
            "_model_module_version": "1.2.0",
            "_view_count": null,
            "flex_flow": null,
            "width": null,
            "min_width": null,
            "border": null,
            "align_items": null,
            "bottom": null,
            "_model_module": "@jupyter-widgets/base",
            "top": null,
            "grid_column": null,
            "overflow_y": null,
            "overflow_x": null,
            "grid_auto_flow": null,
            "grid_area": null,
            "grid_template_columns": null,
            "flex": null,
            "_model_name": "LayoutModel",
            "justify_items": null,
            "grid_row": null,
            "max_height": null,
            "align_content": null,
            "visibility": null,
            "align_self": null,
            "height": null,
            "min_height": null,
            "padding": null,
            "grid_auto_rows": null,
            "grid_gap": null,
            "max_width": null,
            "order": null,
            "_view_module_version": "1.2.0",
            "grid_template_areas": null,
            "object_position": null,
            "object_fit": null,
            "grid_auto_columns": null,
            "margin": null,
            "display": null,
            "left": null
          }
        },
        "bc2d86507253456cb641a1eb0d24a703": {
          "model_module": "@jupyter-widgets/controls",
          "model_name": "FloatProgressModel",
          "state": {
            "_view_name": "ProgressView",
            "style": "IPY_MODEL_e0c7a773596e456eb52d3eb4b1b1fe16",
            "_dom_classes": [],
            "description": "Fit LSTM: 100%",
            "_model_name": "FloatProgressModel",
            "bar_style": "success",
            "max": 1000,
            "_view_module": "@jupyter-widgets/controls",
            "_model_module_version": "1.5.0",
            "value": 1000,
            "_view_count": null,
            "_view_module_version": "1.5.0",
            "orientation": "horizontal",
            "min": 0,
            "description_tooltip": null,
            "_model_module": "@jupyter-widgets/controls",
            "layout": "IPY_MODEL_8579a92bc1e44d7593190f39b3524d83"
          }
        },
        "e53f10dc62d9424c83042e99ddbae4ba": {
          "model_module": "@jupyter-widgets/controls",
          "model_name": "HTMLModel",
          "state": {
            "_view_name": "HTMLView",
            "style": "IPY_MODEL_f2c2db4db4914513b172358df7fd170e",
            "_dom_classes": [],
            "description": "",
            "_model_name": "HTMLModel",
            "placeholder": "​",
            "_view_module": "@jupyter-widgets/controls",
            "_model_module_version": "1.5.0",
            "value": " 1000/1000 [04:45&lt;00:00,  3.50it/s]",
            "_view_count": null,
            "_view_module_version": "1.5.0",
            "description_tooltip": null,
            "_model_module": "@jupyter-widgets/controls",
            "layout": "IPY_MODEL_9b4506a366c142eaa3ace3a8a913319a"
          }
        },
        "e0c7a773596e456eb52d3eb4b1b1fe16": {
          "model_module": "@jupyter-widgets/controls",
          "model_name": "ProgressStyleModel",
          "state": {
            "_view_name": "StyleView",
            "_model_name": "ProgressStyleModel",
            "description_width": "initial",
            "_view_module": "@jupyter-widgets/base",
            "_model_module_version": "1.5.0",
            "_view_count": null,
            "_view_module_version": "1.2.0",
            "bar_color": null,
            "_model_module": "@jupyter-widgets/controls"
          }
        },
        "8579a92bc1e44d7593190f39b3524d83": {
          "model_module": "@jupyter-widgets/base",
          "model_name": "LayoutModel",
          "state": {
            "_view_name": "LayoutView",
            "grid_template_rows": null,
            "right": null,
            "justify_content": null,
            "_view_module": "@jupyter-widgets/base",
            "overflow": null,
            "_model_module_version": "1.2.0",
            "_view_count": null,
            "flex_flow": null,
            "width": null,
            "min_width": null,
            "border": null,
            "align_items": null,
            "bottom": null,
            "_model_module": "@jupyter-widgets/base",
            "top": null,
            "grid_column": null,
            "overflow_y": null,
            "overflow_x": null,
            "grid_auto_flow": null,
            "grid_area": null,
            "grid_template_columns": null,
            "flex": null,
            "_model_name": "LayoutModel",
            "justify_items": null,
            "grid_row": null,
            "max_height": null,
            "align_content": null,
            "visibility": null,
            "align_self": null,
            "height": null,
            "min_height": null,
            "padding": null,
            "grid_auto_rows": null,
            "grid_gap": null,
            "max_width": null,
            "order": null,
            "_view_module_version": "1.2.0",
            "grid_template_areas": null,
            "object_position": null,
            "object_fit": null,
            "grid_auto_columns": null,
            "margin": null,
            "display": null,
            "left": null
          }
        },
        "f2c2db4db4914513b172358df7fd170e": {
          "model_module": "@jupyter-widgets/controls",
          "model_name": "DescriptionStyleModel",
          "state": {
            "_view_name": "StyleView",
            "_model_name": "DescriptionStyleModel",
            "description_width": "",
            "_view_module": "@jupyter-widgets/base",
            "_model_module_version": "1.5.0",
            "_view_count": null,
            "_view_module_version": "1.2.0",
            "_model_module": "@jupyter-widgets/controls"
          }
        },
        "9b4506a366c142eaa3ace3a8a913319a": {
          "model_module": "@jupyter-widgets/base",
          "model_name": "LayoutModel",
          "state": {
            "_view_name": "LayoutView",
            "grid_template_rows": null,
            "right": null,
            "justify_content": null,
            "_view_module": "@jupyter-widgets/base",
            "overflow": null,
            "_model_module_version": "1.2.0",
            "_view_count": null,
            "flex_flow": null,
            "width": null,
            "min_width": null,
            "border": null,
            "align_items": null,
            "bottom": null,
            "_model_module": "@jupyter-widgets/base",
            "top": null,
            "grid_column": null,
            "overflow_y": null,
            "overflow_x": null,
            "grid_auto_flow": null,
            "grid_area": null,
            "grid_template_columns": null,
            "flex": null,
            "_model_name": "LayoutModel",
            "justify_items": null,
            "grid_row": null,
            "max_height": null,
            "align_content": null,
            "visibility": null,
            "align_self": null,
            "height": null,
            "min_height": null,
            "padding": null,
            "grid_auto_rows": null,
            "grid_gap": null,
            "max_width": null,
            "order": null,
            "_view_module_version": "1.2.0",
            "grid_template_areas": null,
            "object_position": null,
            "object_fit": null,
            "grid_auto_columns": null,
            "margin": null,
            "display": null,
            "left": null
          }
        },
        "55e5294a04db4b60b00fb1664f62556b": {
          "model_module": "@jupyter-widgets/controls",
          "model_name": "HBoxModel",
          "state": {
            "_view_name": "HBoxView",
            "_dom_classes": [],
            "_model_name": "HBoxModel",
            "_view_module": "@jupyter-widgets/controls",
            "_model_module_version": "1.5.0",
            "_view_count": null,
            "_view_module_version": "1.5.0",
            "box_style": "",
            "layout": "IPY_MODEL_6b8292369a0144ca8fa9c70b331715a7",
            "_model_module": "@jupyter-widgets/controls",
            "children": [
              "IPY_MODEL_85edd1be7c3d4b2db25033a9f1dac179",
              "IPY_MODEL_3f628865a7234317b55760725590651d"
            ]
          }
        },
        "6b8292369a0144ca8fa9c70b331715a7": {
          "model_module": "@jupyter-widgets/base",
          "model_name": "LayoutModel",
          "state": {
            "_view_name": "LayoutView",
            "grid_template_rows": null,
            "right": null,
            "justify_content": null,
            "_view_module": "@jupyter-widgets/base",
            "overflow": null,
            "_model_module_version": "1.2.0",
            "_view_count": null,
            "flex_flow": null,
            "width": null,
            "min_width": null,
            "border": null,
            "align_items": null,
            "bottom": null,
            "_model_module": "@jupyter-widgets/base",
            "top": null,
            "grid_column": null,
            "overflow_y": null,
            "overflow_x": null,
            "grid_auto_flow": null,
            "grid_area": null,
            "grid_template_columns": null,
            "flex": null,
            "_model_name": "LayoutModel",
            "justify_items": null,
            "grid_row": null,
            "max_height": null,
            "align_content": null,
            "visibility": null,
            "align_self": null,
            "height": null,
            "min_height": null,
            "padding": null,
            "grid_auto_rows": null,
            "grid_gap": null,
            "max_width": null,
            "order": null,
            "_view_module_version": "1.2.0",
            "grid_template_areas": null,
            "object_position": null,
            "object_fit": null,
            "grid_auto_columns": null,
            "margin": null,
            "display": null,
            "left": null
          }
        },
        "85edd1be7c3d4b2db25033a9f1dac179": {
          "model_module": "@jupyter-widgets/controls",
          "model_name": "FloatProgressModel",
          "state": {
            "_view_name": "ProgressView",
            "style": "IPY_MODEL_88b48c512a6f41eda65ce418f1e7a9f1",
            "_dom_classes": [],
            "description": "Fit LSTM: 100%",
            "_model_name": "FloatProgressModel",
            "bar_style": "success",
            "max": 1000,
            "_view_module": "@jupyter-widgets/controls",
            "_model_module_version": "1.5.0",
            "value": 1000,
            "_view_count": null,
            "_view_module_version": "1.5.0",
            "orientation": "horizontal",
            "min": 0,
            "description_tooltip": null,
            "_model_module": "@jupyter-widgets/controls",
            "layout": "IPY_MODEL_1fc8d8ad275048eb89bf6c87c8d5fec2"
          }
        },
        "3f628865a7234317b55760725590651d": {
          "model_module": "@jupyter-widgets/controls",
          "model_name": "HTMLModel",
          "state": {
            "_view_name": "HTMLView",
            "style": "IPY_MODEL_b0d6ba53c96c4708a31b3dde645227c9",
            "_dom_classes": [],
            "description": "",
            "_model_name": "HTMLModel",
            "placeholder": "​",
            "_view_module": "@jupyter-widgets/controls",
            "_model_module_version": "1.5.0",
            "value": " 1000/1000 [04:52&lt;00:00,  3.42it/s]",
            "_view_count": null,
            "_view_module_version": "1.5.0",
            "description_tooltip": null,
            "_model_module": "@jupyter-widgets/controls",
            "layout": "IPY_MODEL_0d1c44131c004757af603c2213e8db6e"
          }
        },
        "88b48c512a6f41eda65ce418f1e7a9f1": {
          "model_module": "@jupyter-widgets/controls",
          "model_name": "ProgressStyleModel",
          "state": {
            "_view_name": "StyleView",
            "_model_name": "ProgressStyleModel",
            "description_width": "initial",
            "_view_module": "@jupyter-widgets/base",
            "_model_module_version": "1.5.0",
            "_view_count": null,
            "_view_module_version": "1.2.0",
            "bar_color": null,
            "_model_module": "@jupyter-widgets/controls"
          }
        },
        "1fc8d8ad275048eb89bf6c87c8d5fec2": {
          "model_module": "@jupyter-widgets/base",
          "model_name": "LayoutModel",
          "state": {
            "_view_name": "LayoutView",
            "grid_template_rows": null,
            "right": null,
            "justify_content": null,
            "_view_module": "@jupyter-widgets/base",
            "overflow": null,
            "_model_module_version": "1.2.0",
            "_view_count": null,
            "flex_flow": null,
            "width": null,
            "min_width": null,
            "border": null,
            "align_items": null,
            "bottom": null,
            "_model_module": "@jupyter-widgets/base",
            "top": null,
            "grid_column": null,
            "overflow_y": null,
            "overflow_x": null,
            "grid_auto_flow": null,
            "grid_area": null,
            "grid_template_columns": null,
            "flex": null,
            "_model_name": "LayoutModel",
            "justify_items": null,
            "grid_row": null,
            "max_height": null,
            "align_content": null,
            "visibility": null,
            "align_self": null,
            "height": null,
            "min_height": null,
            "padding": null,
            "grid_auto_rows": null,
            "grid_gap": null,
            "max_width": null,
            "order": null,
            "_view_module_version": "1.2.0",
            "grid_template_areas": null,
            "object_position": null,
            "object_fit": null,
            "grid_auto_columns": null,
            "margin": null,
            "display": null,
            "left": null
          }
        },
        "b0d6ba53c96c4708a31b3dde645227c9": {
          "model_module": "@jupyter-widgets/controls",
          "model_name": "DescriptionStyleModel",
          "state": {
            "_view_name": "StyleView",
            "_model_name": "DescriptionStyleModel",
            "description_width": "",
            "_view_module": "@jupyter-widgets/base",
            "_model_module_version": "1.5.0",
            "_view_count": null,
            "_view_module_version": "1.2.0",
            "_model_module": "@jupyter-widgets/controls"
          }
        },
        "0d1c44131c004757af603c2213e8db6e": {
          "model_module": "@jupyter-widgets/base",
          "model_name": "LayoutModel",
          "state": {
            "_view_name": "LayoutView",
            "grid_template_rows": null,
            "right": null,
            "justify_content": null,
            "_view_module": "@jupyter-widgets/base",
            "overflow": null,
            "_model_module_version": "1.2.0",
            "_view_count": null,
            "flex_flow": null,
            "width": null,
            "min_width": null,
            "border": null,
            "align_items": null,
            "bottom": null,
            "_model_module": "@jupyter-widgets/base",
            "top": null,
            "grid_column": null,
            "overflow_y": null,
            "overflow_x": null,
            "grid_auto_flow": null,
            "grid_area": null,
            "grid_template_columns": null,
            "flex": null,
            "_model_name": "LayoutModel",
            "justify_items": null,
            "grid_row": null,
            "max_height": null,
            "align_content": null,
            "visibility": null,
            "align_self": null,
            "height": null,
            "min_height": null,
            "padding": null,
            "grid_auto_rows": null,
            "grid_gap": null,
            "max_width": null,
            "order": null,
            "_view_module_version": "1.2.0",
            "grid_template_areas": null,
            "object_position": null,
            "object_fit": null,
            "grid_auto_columns": null,
            "margin": null,
            "display": null,
            "left": null
          }
        },
        "a238d3229f7d48d681ff6d835684446e": {
          "model_module": "@jupyter-widgets/controls",
          "model_name": "HBoxModel",
          "state": {
            "_view_name": "HBoxView",
            "_dom_classes": [],
            "_model_name": "HBoxModel",
            "_view_module": "@jupyter-widgets/controls",
            "_model_module_version": "1.5.0",
            "_view_count": null,
            "_view_module_version": "1.5.0",
            "box_style": "",
            "layout": "IPY_MODEL_b8335a3f6a1f4baaa9122d615930acfd",
            "_model_module": "@jupyter-widgets/controls",
            "children": [
              "IPY_MODEL_8617389d853d4315a4f8f03f65128eef",
              "IPY_MODEL_2483e6b7a7cf47ad87ee502d5420d670"
            ]
          }
        },
        "b8335a3f6a1f4baaa9122d615930acfd": {
          "model_module": "@jupyter-widgets/base",
          "model_name": "LayoutModel",
          "state": {
            "_view_name": "LayoutView",
            "grid_template_rows": null,
            "right": null,
            "justify_content": null,
            "_view_module": "@jupyter-widgets/base",
            "overflow": null,
            "_model_module_version": "1.2.0",
            "_view_count": null,
            "flex_flow": null,
            "width": null,
            "min_width": null,
            "border": null,
            "align_items": null,
            "bottom": null,
            "_model_module": "@jupyter-widgets/base",
            "top": null,
            "grid_column": null,
            "overflow_y": null,
            "overflow_x": null,
            "grid_auto_flow": null,
            "grid_area": null,
            "grid_template_columns": null,
            "flex": null,
            "_model_name": "LayoutModel",
            "justify_items": null,
            "grid_row": null,
            "max_height": null,
            "align_content": null,
            "visibility": null,
            "align_self": null,
            "height": null,
            "min_height": null,
            "padding": null,
            "grid_auto_rows": null,
            "grid_gap": null,
            "max_width": null,
            "order": null,
            "_view_module_version": "1.2.0",
            "grid_template_areas": null,
            "object_position": null,
            "object_fit": null,
            "grid_auto_columns": null,
            "margin": null,
            "display": null,
            "left": null
          }
        },
        "8617389d853d4315a4f8f03f65128eef": {
          "model_module": "@jupyter-widgets/controls",
          "model_name": "FloatProgressModel",
          "state": {
            "_view_name": "ProgressView",
            "style": "IPY_MODEL_f2c56ca9dbc049bfb350a384bdbcf095",
            "_dom_classes": [],
            "description": "Fit LSTM:  78%",
            "_model_name": "FloatProgressModel",
            "bar_style": "",
            "max": 1000,
            "_view_module": "@jupyter-widgets/controls",
            "_model_module_version": "1.5.0",
            "value": 780,
            "_view_count": null,
            "_view_module_version": "1.5.0",
            "orientation": "horizontal",
            "min": 0,
            "description_tooltip": null,
            "_model_module": "@jupyter-widgets/controls",
            "layout": "IPY_MODEL_752251a1d450430d8405a0007f19ea00"
          }
        },
        "2483e6b7a7cf47ad87ee502d5420d670": {
          "model_module": "@jupyter-widgets/controls",
          "model_name": "HTMLModel",
          "state": {
            "_view_name": "HTMLView",
            "style": "IPY_MODEL_ac9225c77e5c4a3fa9ed86f665b23dd5",
            "_dom_classes": [],
            "description": "",
            "_model_name": "HTMLModel",
            "placeholder": "​",
            "_view_module": "@jupyter-widgets/controls",
            "_model_module_version": "1.5.0",
            "value": " 780/1000 [03:47&lt;01:04,  3.41it/s]",
            "_view_count": null,
            "_view_module_version": "1.5.0",
            "description_tooltip": null,
            "_model_module": "@jupyter-widgets/controls",
            "layout": "IPY_MODEL_8b757ab6542a4f4ab5b8fdf587fc65ed"
          }
        },
        "f2c56ca9dbc049bfb350a384bdbcf095": {
          "model_module": "@jupyter-widgets/controls",
          "model_name": "ProgressStyleModel",
          "state": {
            "_view_name": "StyleView",
            "_model_name": "ProgressStyleModel",
            "description_width": "initial",
            "_view_module": "@jupyter-widgets/base",
            "_model_module_version": "1.5.0",
            "_view_count": null,
            "_view_module_version": "1.2.0",
            "bar_color": null,
            "_model_module": "@jupyter-widgets/controls"
          }
        },
        "752251a1d450430d8405a0007f19ea00": {
          "model_module": "@jupyter-widgets/base",
          "model_name": "LayoutModel",
          "state": {
            "_view_name": "LayoutView",
            "grid_template_rows": null,
            "right": null,
            "justify_content": null,
            "_view_module": "@jupyter-widgets/base",
            "overflow": null,
            "_model_module_version": "1.2.0",
            "_view_count": null,
            "flex_flow": null,
            "width": null,
            "min_width": null,
            "border": null,
            "align_items": null,
            "bottom": null,
            "_model_module": "@jupyter-widgets/base",
            "top": null,
            "grid_column": null,
            "overflow_y": null,
            "overflow_x": null,
            "grid_auto_flow": null,
            "grid_area": null,
            "grid_template_columns": null,
            "flex": null,
            "_model_name": "LayoutModel",
            "justify_items": null,
            "grid_row": null,
            "max_height": null,
            "align_content": null,
            "visibility": null,
            "align_self": null,
            "height": null,
            "min_height": null,
            "padding": null,
            "grid_auto_rows": null,
            "grid_gap": null,
            "max_width": null,
            "order": null,
            "_view_module_version": "1.2.0",
            "grid_template_areas": null,
            "object_position": null,
            "object_fit": null,
            "grid_auto_columns": null,
            "margin": null,
            "display": null,
            "left": null
          }
        },
        "ac9225c77e5c4a3fa9ed86f665b23dd5": {
          "model_module": "@jupyter-widgets/controls",
          "model_name": "DescriptionStyleModel",
          "state": {
            "_view_name": "StyleView",
            "_model_name": "DescriptionStyleModel",
            "description_width": "",
            "_view_module": "@jupyter-widgets/base",
            "_model_module_version": "1.5.0",
            "_view_count": null,
            "_view_module_version": "1.2.0",
            "_model_module": "@jupyter-widgets/controls"
          }
        },
        "8b757ab6542a4f4ab5b8fdf587fc65ed": {
          "model_module": "@jupyter-widgets/base",
          "model_name": "LayoutModel",
          "state": {
            "_view_name": "LayoutView",
            "grid_template_rows": null,
            "right": null,
            "justify_content": null,
            "_view_module": "@jupyter-widgets/base",
            "overflow": null,
            "_model_module_version": "1.2.0",
            "_view_count": null,
            "flex_flow": null,
            "width": null,
            "min_width": null,
            "border": null,
            "align_items": null,
            "bottom": null,
            "_model_module": "@jupyter-widgets/base",
            "top": null,
            "grid_column": null,
            "overflow_y": null,
            "overflow_x": null,
            "grid_auto_flow": null,
            "grid_area": null,
            "grid_template_columns": null,
            "flex": null,
            "_model_name": "LayoutModel",
            "justify_items": null,
            "grid_row": null,
            "max_height": null,
            "align_content": null,
            "visibility": null,
            "align_self": null,
            "height": null,
            "min_height": null,
            "padding": null,
            "grid_auto_rows": null,
            "grid_gap": null,
            "max_width": null,
            "order": null,
            "_view_module_version": "1.2.0",
            "grid_template_areas": null,
            "object_position": null,
            "object_fit": null,
            "grid_auto_columns": null,
            "margin": null,
            "display": null,
            "left": null
          }
        }
      }
    }
  },
  "cells": [
    {
      "cell_type": "markdown",
      "metadata": {
        "id": "view-in-github",
        "colab_type": "text"
      },
      "source": [
        "<a href=\"https://colab.research.google.com/github/aufawibowo/lstm-under-different-stability/blob/master/Notebook_Implementation_of_Stock_Prediction_Based_on_LSTM_under_Different_Stability_(1).ipynb\" target=\"_parent\"><img src=\"https://colab.research.google.com/assets/colab-badge.svg\" alt=\"Open In Colab\"/></a>"
      ]
    },
    {
      "cell_type": "code",
      "metadata": {
        "id": "3ID8hhp6nbZ0",
        "colab_type": "code",
        "colab": {
          "base_uri": "https://localhost:8080/",
          "height": 55
        },
        "outputId": "0873a375-2b94-4063-bd40-7219f4b4d2c4"
      },
      "source": [
        "gpu_info = !nvidia-smi\n",
        "gpu_info = '\\n'.join(gpu_info)\n",
        "if gpu_info.find('failed') >= 0:\n",
        "  print('Select the Runtime → \"Change runtime type\" menu to enable a GPU accelerator, ')\n",
        "  print('and then re-execute this cell.')\n",
        "else:\n",
        "  print(gpu_info)"
      ],
      "execution_count": 78,
      "outputs": [
        {
          "output_type": "stream",
          "text": [
            "Select the Runtime → \"Change runtime type\" menu to enable a GPU accelerator, \n",
            "and then re-execute this cell.\n"
          ],
          "name": "stdout"
        }
      ]
    },
    {
      "cell_type": "code",
      "metadata": {
        "id": "LCNYcg-xEZmG",
        "colab_type": "code",
        "colab": {
          "base_uri": "https://localhost:8080/",
          "height": 36
        },
        "outputId": "8e4a7270-7df3-44f9-9da8-044b8da7660c"
      },
      "source": [
        "pip install tqdm"
      ],
      "execution_count": 79,
      "outputs": [
        {
          "output_type": "stream",
          "text": [
            "Requirement already satisfied: tqdm in /usr/local/lib/python3.6/dist-packages (4.41.1)\n"
          ],
          "name": "stdout"
        }
      ]
    },
    {
      "cell_type": "code",
      "metadata": {
        "id": "mGej2vtopN9D",
        "colab_type": "code",
        "colab": {}
      },
      "source": [
        "from pandas import DataFrame\n",
        "from pandas import Series\n",
        "from pandas import concat\n",
        "from pandas import read_csv\n",
        "from pandas import datetime\n",
        "from sklearn.metrics import mean_squared_error\n",
        "from sklearn.metrics import mean_absolute_error\n",
        "from sklearn.preprocessing import MinMaxScaler\n",
        "from keras.models import Sequential\n",
        "from keras.layers import Dense\n",
        "from keras.layers import LSTM\n",
        "from keras import optimizers\n",
        "from math import sqrt\n",
        "import matplotlib\n",
        "# be able to save images on server\n",
        "matplotlib.use('Agg')\n",
        "from matplotlib import pyplot\n",
        "import numpy as np\n",
        "from statsmodels.tsa.stattools import adfuller\n",
        "import matplotlib.pyplot as plt\n",
        "from tqdm import tqdm\n",
        "from tqdm.notebook import tnrange"
      ],
      "execution_count": 80,
      "outputs": []
    },
    {
      "cell_type": "code",
      "metadata": {
        "id": "IkghrfMEnkzJ",
        "colab_type": "code",
        "colab": {}
      },
      "source": [
        "source_file = [  \"/content/drive/My Drive/tugas akhir/SZSE 200 Historical Data.csv\"]\n",
        "                # \"/content/drive/My Drive/tugas akhir/SZSE 300 Historical Data.csv\",\n",
        "                # \"/content/drive/My Drive/tugas akhir/Shanghai Shenzhen CSI 300 Historical Data.csv\",\n",
        "                #  \"/content/drive/My Drive/tugas akhir/Jakarta Stock Exchange Composite Index Historical Data.csv\"]\n",
        "            #   \"/content/drive/My Drive/tugas akhir/UNVR Historical Data.csv\",\n",
        "            #     \"/content/drive/My Drive/tugas akhir/BUMI Historical Data.csv\",\n",
        "            #     \"/content/drive/My Drive/tugas akhir/ASII Historical Data.csv\",\n",
        "            #    \"/content/drive/My Drive/tugas akhir/BRPT Historical Data.csv\"]\n",
        "            #    \"/content/drive/My Drive/tugas akhir/BBCA Historical Data.csv\",\n",
        "            #    \"/content/drive/My Drive/tugas akhir/BTON Historical Data.csv\",\n",
        "            #    \"/content/drive/My Drive/tugas akhir/AUTO Historical Data.csv\","
      ],
      "execution_count": 81,
      "outputs": []
    },
    {
      "cell_type": "code",
      "metadata": {
        "id": "csh8GOj452SG",
        "colab_type": "code",
        "colab": {}
      },
      "source": [
        "# data log debugger\n",
        "data_log = {}"
      ],
      "execution_count": 82,
      "outputs": []
    },
    {
      "cell_type": "code",
      "metadata": {
        "id": "yXdAW89Bnzxd",
        "colab_type": "code",
        "colab": {}
      },
      "source": [
        "def timeseries_to_supervised(data, lag=1):\n",
        "\tdf = DataFrame(data)\n",
        "\tcolumns = [df.shift(i) for i in range(1, lag+1)]\n",
        "\tcolumns.append(df)\n",
        "\tdf = concat(columns, axis=1)\n",
        "\tdf = df.drop(0)\n",
        "\treturn df"
      ],
      "execution_count": 83,
      "outputs": []
    },
    {
      "cell_type": "code",
      "metadata": {
        "id": "0UFh7MOpn2d6",
        "colab_type": "code",
        "colab": {}
      },
      "source": [
        "def difference(dataset, interval=1):\n",
        "\tdiff = list()\n",
        "\tfor i in range(interval, len(dataset)):\n",
        "\t\tvalue = dataset[i] - dataset[i - interval]\n",
        "\t\tdiff.append(value)\n",
        "\treturn Series(diff)"
      ],
      "execution_count": 84,
      "outputs": []
    },
    {
      "cell_type": "code",
      "metadata": {
        "id": "S0hegeXBn4xT",
        "colab_type": "code",
        "colab": {}
      },
      "source": [
        "def inverse_difference(history, yhat, interval=1):\n",
        "\treturn yhat + history[-interval]"
      ],
      "execution_count": 85,
      "outputs": []
    },
    {
      "cell_type": "code",
      "metadata": {
        "id": "8dTlZDr8n7-N",
        "colab_type": "code",
        "colab": {}
      },
      "source": [
        "def scale(train, test):\n",
        "\t# fit scaler\n",
        "\tscaler = MinMaxScaler(feature_range=(0, 1))\n",
        "\tscaler = scaler.fit(train)\n",
        "\ttrain = train.reshape(train.shape[0], train.shape[1])\n",
        "\ttrain_scaled = scaler.transform(train)\n",
        "\ttest = test.reshape(test.shape[0], test.shape[1])\n",
        "\ttest_scaled = scaler.transform(test)\n",
        "\treturn scaler, train_scaled, test_scaled"
      ],
      "execution_count": 86,
      "outputs": []
    },
    {
      "cell_type": "code",
      "metadata": {
        "id": "cTW_1cUDohbu",
        "colab_type": "code",
        "colab": {}
      },
      "source": [
        "def invert_scale(scaler, X, yhat):\n",
        "\tnew_row = [x for x in X] + [yhat]\n",
        "\tarray = np.array(new_row)\n",
        "\tarray = array.reshape(1, len(array))\n",
        "\tinverted = scaler.inverse_transform(array)\n",
        "\treturn inverted[0, -1]"
      ],
      "execution_count": 87,
      "outputs": []
    },
    {
      "cell_type": "code",
      "metadata": {
        "id": "SCZkOCAVJNTz",
        "colab_type": "code",
        "colab": {}
      },
      "source": [
        "# evaluate the model on a dataset, returns RMSE in transformed units\n",
        "def evaluate(model, raw_data, scaled_dataset, scaler, offset, batch_size):\n",
        "    # separate\n",
        "    X, y = scaled_dataset[:,0:-1], scaled_dataset[:,-1]\n",
        "    # reshape\n",
        "    reshaped = X.reshape(len(X), 1, 1)\n",
        "    # forecast dataset\n",
        "    output = model.predict(reshaped, batch_size=batch_size)\n",
        "    # invert data transforms on forecast\n",
        "    predictions = list()\n",
        "    for i in range(len(output)):\n",
        "        yhat = output[i,0]\n",
        "        # invert scaling\n",
        "        yhat = invert_scale(scaler, X[i], yhat)\n",
        "        # invert differencing\n",
        "        yhat = yhat + raw_data[i]\n",
        "        # store forecast\n",
        "        predictions.append(yhat)\n",
        "    # report performance\n",
        "    rmse = sqrt(mean_squared_error(raw_data[1:], predictions))\n",
        "    mae = mean_absolute_error(raw_data[1:], predictions)\n",
        "    pd_test = DataFrame(raw_data[1:])\n",
        "    pd_test.to_csv('data_test.csv')\n",
        "    pd_predictions = DataFrame(predictions)\n",
        "    pd_predictions.to_csv('data_predictions.csv')\n",
        "\n",
        "    return rmse, mae"
      ],
      "execution_count": 88,
      "outputs": []
    },
    {
      "cell_type": "code",
      "metadata": {
        "id": "VVFhUjeqorVw",
        "colab_type": "code",
        "colab": {}
      },
      "source": [
        "\"\"\"\n",
        "Description of fit_lstm()\n",
        "Trains and returns an LSTM model. \n",
        "Takes the training dataset in a supervised learning format, a batch size, a number of epochs, and a number of neurons.\n",
        "\"\"\"\n",
        "def fit_lstm(train, test, raw, scaler, batch_size, nb_epoch, neurons, timesteps, repeatation):\n",
        "    X, y = train[:, 0:-1], train[:, -1]\n",
        "    X = X.reshape(X.shape[0], timesteps, X.shape[1])\n",
        "    data_log['model_lstm_X'] = X\n",
        "\n",
        "    # building model\n",
        "    model = Sequential()\n",
        "    model.add(LSTM(neurons, activation='tanh', batch_input_shape=(batch_size, X.shape[1], X.shape[2]), stateful=True))\n",
        "    # model.add(LSTM(neurons, activation='tanh', return_sequences=True, stateful=True))\n",
        "    # model.add(LSTM(neurons, activation='tanh', return_sequences=True, stateful=True))\n",
        "    # model.add(LSTM(neurons, activation='tanh', return_sequences=True, stateful=True))\n",
        "    # model.add(LSTM(neurons, activation='tanh', return_sequences=True, stateful=True))\n",
        "    # model.add(LSTM(neurons, activation='tanh', return_sequences=True, stateful=True))\n",
        "    # model.add(LSTM(neurons, activation='tanh', return_sequences=True, stateful=True))\n",
        "    # model.add(LSTM(neurons, activation='tanh', return_sequences=True, stateful=True))\n",
        "    # model.add(LSTM(neurons, activation='tanh', return_sequences=True, stateful=True))\n",
        "    # model.add(LSTM(neurons, activation='tanh', stateful=True))\n",
        "    model.add(Dense(1))\n",
        "    sgd = optimizers.SGD(lr=0.001, momentum=0.0, nesterov=False)\n",
        "    model.compile(loss='mean_squared_error', optimizer='sgd')\n",
        "\n",
        "    train_rmse, test_rmse = list(), list()\n",
        "    train_mae, test_mae = list(), list()\n",
        "    for i in tnrange(nb_epoch, desc = 'Fit LSTM'):\n",
        "        #fit model\n",
        "        model.fit(X, y, epochs=1, batch_size=batch_size, verbose=0, shuffle=False)\n",
        "\n",
        "        # evaluate model on train data\n",
        "        raw_train = raw[-(len(train)+len(test)+1):-len(test)]\n",
        "        rmse, mae = evaluate(model, raw_train, train, scaler, 0, batch_size)\n",
        "        train_rmse.append(rmse)\n",
        "        train_mae.append(mae)\n",
        "\n",
        "        # evaluate model on test data\n",
        "        raw_test = raw[-(len(test)+1):]\n",
        "        rmse, mae = evaluate(model, raw_test, test, scaler, 0, batch_size)\n",
        "        test_rmse.append(rmse)\n",
        "        test_mae.append(mae)\n",
        "\n",
        "        model.reset_states()\n",
        "    \n",
        "    # logging pake dict global\n",
        "    data_log['train_rmse_' + str(repeatation)] = train_rmse\n",
        "    data_log['test_rmse_' + str(repeatation)] = test_rmse\n",
        "    data_log['train_mae_' + str(repeatation)] = train_mae\n",
        "    data_log['test_mae_' + str(repeatation)] = test_mae\n",
        "\n",
        "    return model"
      ],
      "execution_count": 89,
      "outputs": []
    },
    {
      "cell_type": "code",
      "metadata": {
        "id": "tc4RrtA06Aii",
        "colab_type": "code",
        "colab": {}
      },
      "source": [
        "def plot_1(series, predictions, file_name):\n",
        "    pyplot.figure(figsize=(12,7))\n",
        "    pyplot.plot(series['Price'], 'green', color='blue', label='LSTM Training Data')\n",
        "    pyplot.plot(series.index[-300:], predictions, color='green', marker='o', linestyle='dashed', label='LSTM Predicted Price')\n",
        "    pyplot.plot(series.index[-300:], series['Price'][-300:], color='red', label='Actual Price')\n",
        "    pyplot.title(file_name[36:])\n",
        "    pyplot.xlabel('Dates')\n",
        "    pyplot.ylabel('Prices')\n",
        "    #plt.xticks(np.arange(0,len(series), 300), series.index[0:len(series):300])\n",
        "    pyplot.legend()\n",
        "    pyplot.savefig('LSTM_' + file_name[36:] + '_Full.png')"
      ],
      "execution_count": 90,
      "outputs": []
    },
    {
      "cell_type": "code",
      "metadata": {
        "id": "EpwUBErw6B1Y",
        "colab_type": "code",
        "colab": {}
      },
      "source": [
        "def plot_2(series, predictions, file_name):\n",
        "    pyplot.figure(figsize=(12,7))\n",
        "    pyplot.plot(series.index[-300:], predictions, color='green', marker='o', linestyle='dashed', label='LSTM Predicted Price')\n",
        "    pyplot.plot(series.index[-300:], series['Price'][-300:], color='red', label='Actual Price')\n",
        "    pyplot.xticks(np.arange(1486,len(series), 60), series['Price'][1486:len(series):60])\n",
        "    pyplot.title(file_name[36:])\n",
        "    pyplot.xlabel('Dates')\n",
        "    pyplot.ylabel('Prices')\n",
        "    pyplot.legend()\n",
        "    pyplot.savefig('LSTM_' + file_name[36:] + '_Prediction Result.png')"
      ],
      "execution_count": 91,
      "outputs": []
    },
    {
      "cell_type": "code",
      "metadata": {
        "id": "y1ENfhf5otYA",
        "colab_type": "code",
        "colab": {}
      },
      "source": [
        "def do_trial(repeats, series, epochs, batch_size, neurons, timesteps, file_name):\n",
        "    # get difference\n",
        "    diff_values = difference(series['Price'].values, 1)\n",
        "    data_log['diff_values'] = diff_values\n",
        "\n",
        "    # convert to supervised \n",
        "    supervised = timeseries_to_supervised(diff_values, timesteps)\n",
        "    data_log['supervised'] = supervised\n",
        "\n",
        "    # pick values only\n",
        "    supervised_values = supervised.values[timesteps:,:]\n",
        "    data_log['supervised_values'] = supervised_values\n",
        "\n",
        "    train, test = supervised_values[0:-300], supervised_values[-300:]\n",
        "\n",
        "    # scale data\n",
        "    scaler, train_scaled, test_scaled = scale(train, test)\n",
        "    data_log['train_scaled'] = train_scaled\n",
        "    data_log['test_scaled'] = test_scaled\n",
        "\n",
        "    error_scores = list()\n",
        "    for repeatation in tnrange(repeats, desc = 'Trial'):\n",
        "        train_trimmed = train_scaled[2:, :]\n",
        "        data_log['train_trimmed'] = train_trimmed\n",
        "\n",
        "        raw_values = series['Price'].values\n",
        "        lstm_model = fit_lstm(train_trimmed, test_scaled, raw_values, scaler, batch_size, epochs, neurons, timesteps, repeatation)\n",
        "        \n",
        "        train_reshaped = train_trimmed[:, 0].reshape(len(train_trimmed), 1, 1)\n",
        "        data_log['train_reshaped'] = train_reshaped\n",
        "\n",
        "        # train\n",
        "        lstm_model.predict(train_reshaped, batch_size=batch_size)\n",
        "\n",
        "        test_reshaped = test_scaled[:,0:-1]\n",
        "        test_reshaped = test_reshaped.reshape(len(test_reshaped), 1, 1)\n",
        "        data_log['test_reshaped'] = test_reshaped\n",
        "\n",
        "        # test\n",
        "        output = lstm_model.predict(test_reshaped, batch_size=batch_size)\n",
        "        data_log['output'] = output\n",
        "\n",
        "        predictions = list()\n",
        "\n",
        "        # convert prediction result to unscaled data\n",
        "        for i in range(len(output)):\n",
        "            yhat = output[i,0]\n",
        "            X = test_scaled[i, 0:-1]\n",
        "            yhat = invert_scale(scaler, X, yhat)\n",
        "            yhat = inverse_difference(raw_values, yhat, len(test_scaled)+1-i)\n",
        "            predictions.append(yhat)\n",
        "\n",
        "        # rmse after prediction\n",
        "        rmse = sqrt(mean_squared_error(raw_values[-300:], predictions))\n",
        "        print('%d) Test RMSE: %.3f' % (repeatation+1, rmse))\n",
        "        error_scores.append(rmse)\n",
        "    pyplot.savefig('Error convergence_' + file_name[36:] + '.png')\n",
        "    data_log['error_scores'] = error_scores\n",
        "    data_log['lstm_model_summary'] = lstm_model.summary()\n",
        "    data_log['predictions'] = predictions\n",
        "\n",
        "    return error_scores, predictions"
      ],
      "execution_count": 92,
      "outputs": []
    },
    {
      "cell_type": "code",
      "metadata": {
        "id": "mtETL8r98Smn",
        "colab_type": "code",
        "colab": {}
      },
      "source": [
        "def return_scaled_data(repeats, series, epochs, batch_size, neurons, timesteps):\n",
        "    raw_values = series['Price'].values\n",
        "    diff_values = difference(raw_values, 1)\n",
        "    supervised = timeseries_to_supervised(diff_values, timesteps)\n",
        "    supervised_values = supervised.values[timesteps:,:]\n",
        "    train, test = supervised_values[0:-300], supervised_values[-300:]\n",
        "    scaler, train_scaled, test_scaled = scale(train, test)\n",
        "\n",
        "    return train_scaled, test_scaled"
      ],
      "execution_count": 93,
      "outputs": []
    },
    {
      "cell_type": "code",
      "metadata": {
        "id": "3IrIlb-DMW1K",
        "colab_type": "code",
        "colab": {}
      },
      "source": [
        "def stationarity_info(series, file_address):\n",
        "    results = adfuller(series)\n",
        "    print(file_address[36:])   # google colab address only\n",
        "    print('ADF Statistic: %f' % results[0])\n",
        "    print('p-value: %f' % results[1])\n",
        "    print('Critical Values:')\n",
        "    values = []\n",
        "    for key, value in results[4].items():\n",
        "        print('\\t%s: %.3f' % (key, value))\n",
        "        values.append(value)\n",
        "    if(results[0] > max(values)):\n",
        "        print(\"Non-stationary and most likely random walk.\")\n",
        "    else:\n",
        "        print(\"Stationary\")\n",
        "    print(\"\")"
      ],
      "execution_count": 94,
      "outputs": []
    },
    {
      "cell_type": "code",
      "metadata": {
        "id": "gsY-4LeZi_0E",
        "colab_type": "code",
        "colab": {}
      },
      "source": [
        "# #kode untuk mencetak data scaled\n",
        "# pyplot.figure(figsize=(12,7))\n",
        "# pyplot.plot(train_scaled, 'green', color='blue', label=file_address[36:-4] + 'Train Scaled')\n",
        "# pyplot.title(file_address[36:]+ 'Train Scaled')\n",
        "# pyplot.xlabel('Dates')\n",
        "# pyplot.ylabel('Prices')\n",
        "# #plt.xticks(np.arange(0,len(series), 300), series.index[0:len(series):300])\n",
        "# pyplot.legend()\n",
        "# pyplot.savefig(file_address[36:] + '_train_scaled.png')\n",
        "\n",
        "# pyplot.figure(figsize=(12,7))\n",
        "# pyplot.plot(test_scaled, 'green', color='blue', label=file_address[36:-4] + 'Test Scaled')\n",
        "# pyplot.title(file_address[36:]+ 'Test Scaled')\n",
        "# pyplot.xlabel('Dates')\n",
        "# pyplot.ylabel('Prices')\n",
        "# #plt.xticks(np.arange(0,len(series), 300), series.index[0:len(series):300])\n",
        "# pyplot.legend()\n",
        "# pyplot.savefig(file_address[36:] + '_test_scaled.png')"
      ],
      "execution_count": 95,
      "outputs": []
    },
    {
      "cell_type": "code",
      "metadata": {
        "id": "VJ-zc8hUoxZd",
        "colab_type": "code",
        "colab": {
          "base_uri": "https://localhost:8080/",
          "height": 489,
          "referenced_widgets": [
            "3f05642f8d6043dbbbee605a2cdd9ae0",
            "7eef3e9efa9740da818b1d7c0866be49",
            "dec534889b3642a383ad96782b9a053d",
            "b73996a3c0cf4424bea3fece9eb3729e",
            "62782a7bda1840f4a3df04a15f9e02eb",
            "2bb1767f01d944b59c00f1b61b8ca945",
            "f042acc2ddc840a3a68c8ee41108e4ce",
            "f2bd2d2dff324258b1c46ffac70cfbf0",
            "37cc3a1830a047d18f208d560f2e3b84",
            "b84a50ea5a864c8fa0c10988c4cdf0c8",
            "bc2d86507253456cb641a1eb0d24a703",
            "e53f10dc62d9424c83042e99ddbae4ba",
            "e0c7a773596e456eb52d3eb4b1b1fe16",
            "8579a92bc1e44d7593190f39b3524d83",
            "f2c2db4db4914513b172358df7fd170e",
            "9b4506a366c142eaa3ace3a8a913319a",
            "55e5294a04db4b60b00fb1664f62556b",
            "6b8292369a0144ca8fa9c70b331715a7",
            "85edd1be7c3d4b2db25033a9f1dac179",
            "3f628865a7234317b55760725590651d",
            "88b48c512a6f41eda65ce418f1e7a9f1",
            "1fc8d8ad275048eb89bf6c87c8d5fec2",
            "b0d6ba53c96c4708a31b3dde645227c9",
            "0d1c44131c004757af603c2213e8db6e",
            "a238d3229f7d48d681ff6d835684446e",
            "b8335a3f6a1f4baaa9122d615930acfd",
            "8617389d853d4315a4f8f03f65128eef",
            "2483e6b7a7cf47ad87ee502d5420d670",
            "f2c56ca9dbc049bfb350a384bdbcf095",
            "752251a1d450430d8405a0007f19ea00",
            "ac9225c77e5c4a3fa9ed86f665b23dd5",
            "8b757ab6542a4f4ab5b8fdf587fc65ed"
          ]
        },
        "outputId": "31983603-67aa-4e25-b6a9-ea192467dfd9"
      },
      "source": [
        "if __name__ == \"__main__\":\n",
        "    for file_name in source_file:\n",
        "        series = read_csv(file_name, header=0, parse_dates=[0], index_col=0, squeeze=True)\n",
        "        repeats = 5\n",
        "        results = DataFrame()\n",
        "        epochs = 1000\n",
        "        batches = 5\n",
        "        neurons = 1\n",
        "        timesteps = 1\n",
        "\n",
        "        # get stationarity information\n",
        "        stationarity_info(series['Price'].values, file_name)\n",
        "\n",
        "        # main lane\n",
        "        results[0], predictions = do_trial(repeats, series, epochs, batches, neurons, timesteps, file_name)\n",
        "        print(results.describe())\n",
        "        results.boxplot()\n",
        "        pyplot.savefig('boxplot_' + file_name[36:] + '.png')\n",
        "\n",
        "        plot_1(series, predictions, file_name)\n",
        "        plot_2(series, predictions, file_name)"
      ],
      "execution_count": null,
      "outputs": [
        {
          "output_type": "stream",
          "text": [
            "SZSE 200 Historical Data.csv\n",
            "ADF Statistic: -2.034669\n",
            "p-value: 0.271582\n",
            "Critical Values:\n",
            "\t1%: -3.437\n",
            "\t5%: -2.864\n",
            "\t10%: -2.568\n",
            "Non-stationary and most likely random walk.\n",
            "\n"
          ],
          "name": "stdout"
        },
        {
          "output_type": "stream",
          "text": [
            "/usr/local/lib/python3.6/dist-packages/ipykernel_launcher.py:22: TqdmDeprecationWarning: Please use `tqdm.notebook.trange` instead of `tqdm.tnrange`\n"
          ],
          "name": "stderr"
        },
        {
          "output_type": "display_data",
          "data": {
            "application/vnd.jupyter.widget-view+json": {
              "model_id": "3f05642f8d6043dbbbee605a2cdd9ae0",
              "version_minor": 0,
              "version_major": 2
            },
            "text/plain": [
              "HBox(children=(FloatProgress(value=0.0, description='Trial', max=5.0, style=ProgressStyle(description_width='i…"
            ]
          },
          "metadata": {
            "tags": []
          }
        },
        {
          "output_type": "stream",
          "text": [
            "/usr/local/lib/python3.6/dist-packages/ipykernel_launcher.py:28: TqdmDeprecationWarning: Please use `tqdm.notebook.trange` instead of `tqdm.tnrange`\n"
          ],
          "name": "stderr"
        },
        {
          "output_type": "display_data",
          "data": {
            "application/vnd.jupyter.widget-view+json": {
              "model_id": "37cc3a1830a047d18f208d560f2e3b84",
              "version_minor": 0,
              "version_major": 2
            },
            "text/plain": [
              "HBox(children=(FloatProgress(value=0.0, description='Fit LSTM', max=1000.0, style=ProgressStyle(description_wi…"
            ]
          },
          "metadata": {
            "tags": []
          }
        },
        {
          "output_type": "stream",
          "text": [
            "\n",
            "1) Test RMSE: 57.774\n"
          ],
          "name": "stdout"
        },
        {
          "output_type": "stream",
          "text": [
            "/usr/local/lib/python3.6/dist-packages/ipykernel_launcher.py:28: TqdmDeprecationWarning: Please use `tqdm.notebook.trange` instead of `tqdm.tnrange`\n"
          ],
          "name": "stderr"
        },
        {
          "output_type": "display_data",
          "data": {
            "application/vnd.jupyter.widget-view+json": {
              "model_id": "55e5294a04db4b60b00fb1664f62556b",
              "version_minor": 0,
              "version_major": 2
            },
            "text/plain": [
              "HBox(children=(FloatProgress(value=0.0, description='Fit LSTM', max=1000.0, style=ProgressStyle(description_wi…"
            ]
          },
          "metadata": {
            "tags": []
          }
        },
        {
          "output_type": "stream",
          "text": [
            "\n",
            "2) Test RMSE: 57.540\n"
          ],
          "name": "stdout"
        },
        {
          "output_type": "stream",
          "text": [
            "/usr/local/lib/python3.6/dist-packages/ipykernel_launcher.py:28: TqdmDeprecationWarning: Please use `tqdm.notebook.trange` instead of `tqdm.tnrange`\n"
          ],
          "name": "stderr"
        },
        {
          "output_type": "display_data",
          "data": {
            "application/vnd.jupyter.widget-view+json": {
              "model_id": "a238d3229f7d48d681ff6d835684446e",
              "version_minor": 0,
              "version_major": 2
            },
            "text/plain": [
              "HBox(children=(FloatProgress(value=0.0, description='Fit LSTM', max=1000.0, style=ProgressStyle(description_wi…"
            ]
          },
          "metadata": {
            "tags": []
          }
        }
      ]
    }
  ]
}